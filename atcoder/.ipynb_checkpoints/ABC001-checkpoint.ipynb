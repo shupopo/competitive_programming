{
 "cells": [
  {
   "cell_type": "markdown",
   "metadata": {},
   "source": [
    "## A"
   ]
  },
  {
   "cell_type": "markdown",
   "metadata": {},
   "source": [
    "## C"
   ]
  },
  {
   "cell_type": "code",
   "execution_count": 46,
   "metadata": {},
   "outputs": [
    {
     "name": "stdout",
     "output_type": "stream",
     "text": [
      "15\n",
      "N 5\n"
     ]
    }
   ],
   "source": [
    "import sys\n",
    "sys.stdin = open(\"./sample_data.txt\")\n",
    "input = sys.stdin.readline\n",
    "\n",
    "######################################\n",
    "\n",
    "from decimal import Decimal, ROUND_HALF_UP\n",
    "\n",
    "\n",
    "Deg,Dis = map(int,input().split())\n",
    "directions = [\"NNE\",\"NE\",\"ENE\",\"E\",\"ESE\",\"SE\",\"SSE\",\"S\",\"SSW\",\"SW\",\"WSW\",\"W\",\"WNW\",\"NW\",\"NNW\"]\n",
    "\n",
    "speed = float(Decimal(str(Dis/60)).quantize(Decimal('0.1'), rounding=ROUND_HALF_UP))\n",
    "power = 0\n",
    "if 0 <= speed and speed <=0.2:\n",
    "    power = 0\n",
    "elif 0.3<=speed and speed<=1.5:\n",
    "    power = 1\n",
    "elif 1.6 <=speed and speed <=3.3:\n",
    "    power = 2\n",
    "elif 3.4<=speed and speed <= 5.4:\n",
    "    power = 3\n",
    "elif 5.5<=speed and speed <= 7.9:\n",
    "    power = 4\n",
    "elif 8.0 <=speed and speed <= 10.7:\n",
    "    power = 5\n",
    "elif 10.8 <= speed and speed<=13.8:\n",
    "    power = 6\n",
    "elif 13.9 <= speed and speed <= 17.1:\n",
    "    power = 7\n",
    "elif 17.2 <= speed and speed <= 20.7:\n",
    "    power = 8\n",
    "elif 20.8 <= speed and speed <=24.4:\n",
    "    power = 9\n",
    "elif 24.5 <= speed and speed <= 28.4:\n",
    "    power = 10\n",
    "elif 28.5<= speed and speed <= 32.6:\n",
    "    power = 11\n",
    "elif 32.7<=speed:\n",
    "    power = 12\n",
    "\n",
    "Deg = Deg/10\n",
    "direction =\"\"\n",
    "index = int((Deg-11.25)//22.5)\n",
    "if power == 0:\n",
    "    direction = \"C\"\n",
    "elif 0<=index and index<=14:\n",
    "    direction = directions[index]\n",
    "else:\n",
    "    direction = \"N\"\n",
    "print(direction,power)\n",
    "\n",
    "\n",
    "\n"
   ]
  },
  {
   "cell_type": "code",
   "execution_count": 1,
   "metadata": {},
   "outputs": [
    {
     "data": {
      "text/plain": [
       "-1.0"
      ]
     },
     "execution_count": 1,
     "metadata": {},
     "output_type": "execute_result"
    }
   ],
   "source": [
    "-1//22.5"
   ]
  },
  {
   "cell_type": "code",
   "execution_count": 45,
   "metadata": {},
   "outputs": [
    {
     "data": {
      "text/plain": [
       "15"
      ]
     },
     "execution_count": 45,
     "metadata": {},
     "output_type": "execute_result"
    }
   ],
   "source": [
    "Deg = 3500/10\n",
    "direction =\"\"\n",
    "index = int((Deg-11.25)//22.5)\n",
    "index"
   ]
  },
  {
   "cell_type": "code",
   "execution_count": null,
   "metadata": {},
   "outputs": [],
   "source": []
  }
 ],
 "metadata": {
  "kernelspec": {
   "display_name": "Python 3",
   "language": "python",
   "name": "python3"
  },
  "language_info": {
   "codemirror_mode": {
    "name": "ipython",
    "version": 3
   },
   "file_extension": ".py",
   "mimetype": "text/x-python",
   "name": "python",
   "nbconvert_exporter": "python",
   "pygments_lexer": "ipython3",
   "version": "3.6.8"
  }
 },
 "nbformat": 4,
 "nbformat_minor": 2
}
