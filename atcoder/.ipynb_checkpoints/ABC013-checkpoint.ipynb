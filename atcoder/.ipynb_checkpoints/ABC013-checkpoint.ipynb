{
 "cells": [
  {
   "cell_type": "markdown",
   "metadata": {},
   "source": [
    "## C"
   ]
  },
  {
   "cell_type": "code",
   "execution_count": 21,
   "metadata": {},
   "outputs": [
    {
     "name": "stdout",
     "output_type": "stream",
     "text": [
      "0 1\n",
      "C selected\n",
      "1 2\n",
      "C selected\n",
      "2 3\n",
      "C selected\n",
      "3 4\n",
      "C selected\n",
      "4 5\n",
      "C selected\n",
      "5 6\n",
      "C selected\n",
      "6 7\n",
      "C selected\n",
      "7 8\n",
      "C selected\n",
      "8 9\n",
      "C selected\n",
      "9 10\n",
      "C selected\n",
      "20000\n"
     ]
    }
   ],
   "source": [
    "import sys\n",
    "sys.stdin = open(\"sample_data.txt\")\n",
    "input = sys.stdin.readline\n",
    "\n",
    "N,H = map(int,input().split())\n",
    "A,B,C,D,E = map(int,input().split())\n",
    "\n",
    "total_price = 0\n",
    "ratio = A//C\n",
    "for i in range(N):\n",
    "    print(i,H)\n",
    "    if H - E >0:\n",
    "        H -= E\n",
    "    else:\n",
    "        if  N-(i+1)>ratio and H+B > ratio*E:\n",
    "            total_price += A\n",
    "            H += B\n",
    "            print(\"A selected\")\n",
    "        else:\n",
    "            total_price += C\n",
    "            H+=D\n",
    "            print(\"C selected\")\n",
    "print(total_price)"
   ]
  },
  {
   "cell_type": "code",
   "execution_count": null,
   "metadata": {},
   "outputs": [],
   "source": [
    "import sys\n",
    "sys.stdin = open(\"sample_data.txt\")\n",
    "input = sys.stdin.readline\n",
    "\n",
    "N,H = map(int,input().split())\n",
    "A,B,C,D,E = map(int,input().split())\n",
    "\n",
    "total_price = 0\n",
    "ratio = A//C\n",
    "for i in range(N):\n",
    "    print(i,H)\n",
    "    if H - E >0:\n",
    "        H -= E\n",
    "    else:\n",
    "        if N -1 -i >=ratio and H+B > ratio*E:\n",
    "            total_price += A\n",
    "            H += B\n",
    "            print(\"A selected\")\n",
    "        else:\n",
    "            total_price += C\n",
    "            H+=D\n",
    "            print(\"C selected\")\n",
    "print(total_price)"
   ]
  }
 ],
 "metadata": {
  "kernelspec": {
   "display_name": "Python 3",
   "language": "python",
   "name": "python3"
  },
  "language_info": {
   "codemirror_mode": {
    "name": "ipython",
    "version": 3
   },
   "file_extension": ".py",
   "mimetype": "text/x-python",
   "name": "python",
   "nbconvert_exporter": "python",
   "pygments_lexer": "ipython3",
   "version": "3.6.8"
  }
 },
 "nbformat": 4,
 "nbformat_minor": 2
}
