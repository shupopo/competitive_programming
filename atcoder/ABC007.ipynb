{
 "cells": [
  {
   "cell_type": "markdown",
   "metadata": {},
   "source": [
    "## C\n",
    "\n",
    "リファレンス  \n",
    "https://techacademy.jp/magazine/18995"
   ]
  },
  {
   "cell_type": "code",
   "execution_count": 3,
   "metadata": {},
   "outputs": [
    {
     "name": "stdout",
     "output_type": "stream",
     "text": [
      "0\n",
      "1\n",
      "2\n",
      "3\n",
      "4\n"
     ]
    }
   ],
   "source": [
    "\n",
    "import queue\n",
    "q = queue.Queue()\n",
    "for i in range(5):\n",
    "    q.put(i)\n",
    "\n",
    "while not q.empty():\n",
    "    print(q.get())\n"
   ]
  },
  {
   "cell_type": "markdown",
   "metadata": {},
   "source": [
    "### 方針\n",
    "1. マップを受け取ったら、手数を記すための同じ大きさ空のマップを作成\n",
    "1. fifoキューで近辺の手数を確定\n",
    "1. 空のマップに追加してゆく"
   ]
  },
  {
   "cell_type": "code",
   "execution_count": 22,
   "metadata": {},
   "outputs": [
    {
     "name": "stdout",
     "output_type": "stream",
     "text": [
      "11\n"
     ]
    }
   ],
   "source": [
    "import sys\n",
    "sys.stdin = open(\"./sample_data.txt\")\n",
    "input = sys.stdin.readline\n",
    "\n",
    "######################################\n",
    "import queue\n",
    "R, C = map(int, input().split())\n",
    "sy, sx = map(int, input().split())\n",
    "gy, gx = map(int, input().split())\n",
    "maze = [list(input()) for _ in range(R)]\n",
    "\n",
    "q = queue.Queue()\n",
    "count = 0\n",
    "current_idx = [sy-1, sx-1]\n",
    "maze[sy-1][sx-1]= count\n",
    "q.put(current_idx)\n",
    "while True:\n",
    "    current_idx = q.get()\n",
    "    if current_idx == [gy-1,gx-1]:\n",
    "        break\n",
    "    count = maze[current_idx[0]][current_idx[1]]\n",
    "    above = maze[current_idx[0]+1][current_idx[1]]\n",
    "    below = maze[current_idx[0]-1][current_idx[1]]\n",
    "    right = maze[current_idx[0]][current_idx[1]+1]\n",
    "    left = maze[current_idx[0]][current_idx[1]-1]\n",
    "    if above == \".\":\n",
    "        maze[current_idx[0]+1][current_idx[1]] = count+1\n",
    "        q.put([current_idx[0]+1,current_idx[1]])\n",
    "    if below == \".\":\n",
    "        maze[current_idx[0]-1][current_idx[1]] = count+1\n",
    "        q.put([current_idx[0]-1,current_idx[1]])\n",
    "    if right ==\".\":\n",
    "        maze[current_idx[0]][current_idx[1]+1] = count+1\n",
    "        q.put([current_idx[0],current_idx[1]+1])\n",
    "    if left ==\".\":\n",
    "        maze[current_idx[0]][current_idx[1]-1] = count+1\n",
    "        q.put([current_idx[0],current_idx[1]-1])\n",
    "        \n",
    "print(count)\n",
    "        "
   ]
  },
  {
   "cell_type": "code",
   "execution_count": null,
   "metadata": {},
   "outputs": [],
   "source": []
  }
 ],
 "metadata": {
  "kernelspec": {
   "display_name": "Python 3",
   "language": "python",
   "name": "python3"
  },
  "language_info": {
   "codemirror_mode": {
    "name": "ipython",
    "version": 3
   },
   "file_extension": ".py",
   "mimetype": "text/x-python",
   "name": "python",
   "nbconvert_exporter": "python",
   "pygments_lexer": "ipython3",
   "version": "3.6.8"
  }
 },
 "nbformat": 4,
 "nbformat_minor": 2
}
