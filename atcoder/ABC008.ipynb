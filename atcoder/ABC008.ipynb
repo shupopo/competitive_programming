{
 "cells": [
  {
   "cell_type": "markdown",
   "metadata": {},
   "source": [
    "## C"
   ]
  },
  {
   "cell_type": "markdown",
   "metadata": {},
   "source": [
    "### 方針\n",
    "\n",
    "### 解説を呼んで下記ライブラリを参考　９９点を目指した\n",
    "http://techtipshoge.blogspot.com/2012/11/pythonnextpermutation.html"
   ]
  },
  {
   "cell_type": "code",
   "execution_count": 5,
   "metadata": {},
   "outputs": [
    {
     "name": "stdout",
     "output_type": "stream",
     "text": [
      "3.1\n"
     ]
    }
   ],
   "source": [
    "import sys\n",
    "sys.stdin = open(\"./sample_data.txt\")\n",
    "input = sys.stdin.readline\n",
    "\n",
    "######################################\n",
    "import itertools\n",
    "import math\n",
    "\n",
    "N = int(input())\n",
    "coins = [int(input()) for _ in range(N)]\n",
    "count = 0\n",
    "for line in itertools.permutations(coins):\n",
    "    # 裏:0 表:1\n",
    "    uraomote = [1]*len(line)\n",
    "    for i in range(len(line)):\n",
    "        for j in range(i+1,len(line)):\n",
    "            if line[j] % line[i] == 0:\n",
    "                if uraomote[j] == 0:\n",
    "                    uraomote[j] = 1\n",
    "                else:\n",
    "                    uraomote[j] = 0\n",
    "    count += sum(int(i) for i in uraomote)\n",
    "print(count/math.factorial(N))"
   ]
  },
  {
   "cell_type": "code",
   "execution_count": null,
   "metadata": {},
   "outputs": [],
   "source": []
  }
 ],
 "metadata": {
  "kernelspec": {
   "display_name": "Python 3",
   "language": "python",
   "name": "python3"
  },
  "language_info": {
   "codemirror_mode": {
    "name": "ipython",
    "version": 3
   },
   "file_extension": ".py",
   "mimetype": "text/x-python",
   "name": "python",
   "nbconvert_exporter": "python",
   "pygments_lexer": "ipython3",
   "version": "3.6.8"
  }
 },
 "nbformat": 4,
 "nbformat_minor": 2
}
