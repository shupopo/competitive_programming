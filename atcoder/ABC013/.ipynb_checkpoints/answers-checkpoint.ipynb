{
 "cells": [
  {
   "cell_type": "code",
   "execution_count": 15,
   "metadata": {},
   "outputs": [],
   "source": [
    "import sys\n",
    "sys.stdin = open(\"sample_data.txt\")\n",
    "input = sys.stdin.readline"
   ]
  },
  {
   "cell_type": "code",
   "execution_count": 3,
   "metadata": {},
   "outputs": [
    {
     "name": "stdout",
     "output_type": "stream",
     "text": [
      "2 3 [3, 4]\n"
     ]
    }
   ],
   "source": [
    "N,M = map(int,input().split())\n",
    "F = [int(input()) for _ in range(N)]\n",
    "print(N,M,F)"
   ]
  },
  {
   "cell_type": "markdown",
   "metadata": {},
   "source": [
    "## A"
   ]
  },
  {
   "cell_type": "code",
   "execution_count": 8,
   "metadata": {},
   "outputs": [
    {
     "name": "stdout",
     "output_type": "stream",
     "text": [
      "A\n",
      "1\n"
     ]
    }
   ],
   "source": [
    "X = input()\n",
    "alphabet_to_num ={\"A\":1,\"B\":2,\"C\":3,\"D\":4,\"E\":5}\n",
    "print(alphabet_to_num[X])"
   ]
  },
  {
   "cell_type": "markdown",
   "metadata": {},
   "source": [
    "## B"
   ]
  },
  {
   "cell_type": "code",
   "execution_count": 19,
   "metadata": {},
   "outputs": [
    {
     "name": "stdout",
     "output_type": "stream",
     "text": [
      "3\n"
     ]
    }
   ],
   "source": [
    "import sys\n",
    "sys.stdin = open(\"sample_data.txt\")\n",
    "input = sys.stdin.readline\n",
    "\n",
    "############################\n",
    "\n",
    "a = int(input())\n",
    "b = int(input())\n",
    "\n",
    "count1 = 0\n",
    "count2 = 0\n",
    "a2 = a\n",
    "while a != b:\n",
    "    if a == 9:\n",
    "        a = 0\n",
    "    else:\n",
    "        a += 1\n",
    "    count1 += 1\n",
    "\n",
    "while a2 != b:\n",
    "    if a2 == 0:\n",
    "        a2 = 9\n",
    "    else:\n",
    "        a2 -= 1\n",
    "    count2 +=1\n",
    "print(min(count1,count2))"
   ]
  },
  {
   "cell_type": "code",
   "execution_count": null,
   "metadata": {},
   "outputs": [],
   "source": []
  }
 ],
 "metadata": {
  "kernelspec": {
   "display_name": "Python 3",
   "language": "python",
   "name": "python3"
  },
  "language_info": {
   "codemirror_mode": {
    "name": "ipython",
    "version": 3
   },
   "file_extension": ".py",
   "mimetype": "text/x-python",
   "name": "python",
   "nbconvert_exporter": "python",
   "pygments_lexer": "ipython3",
   "version": "3.6.8"
  }
 },
 "nbformat": 4,
 "nbformat_minor": 2
}
