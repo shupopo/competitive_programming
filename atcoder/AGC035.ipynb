{
 "cells": [
  {
   "cell_type": "code",
   "execution_count": 1,
   "metadata": {},
   "outputs": [
    {
     "name": "stdout",
     "output_type": "stream",
     "text": [
      "3 2\n"
     ]
    }
   ],
   "source": [
    "import sys\n",
    "sys.stdin = open(\"sample_data.txt\")\n",
    "input = sys.stdin.readline\n",
    "\n",
    "############################\n",
    "\n",
    "a = int(input())\n",
    "b = int(input())\n",
    "\n",
    "print(a,b)"
   ]
  },
  {
   "cell_type": "code",
   "execution_count": 7,
   "metadata": {},
   "outputs": [],
   "source": [
    "import sys\n",
    "sys.stdin = open(\"sample_data.txt\")\n",
    "input = sys.stdin.readline"
   ]
  },
  {
   "cell_type": "code",
   "execution_count": 8,
   "metadata": {},
   "outputs": [
    {
     "name": "stdout",
     "output_type": "stream",
     "text": [
      "3\n"
     ]
    }
   ],
   "source": [
    "c = input()\n",
    "print(c)"
   ]
  },
  {
   "cell_type": "markdown",
   "metadata": {},
   "source": [
    "## A"
   ]
  },
  {
   "cell_type": "code",
   "execution_count": 12,
   "metadata": {},
   "outputs": [
    {
     "name": "stdout",
     "output_type": "stream",
     "text": [
      "No\n"
     ]
    }
   ],
   "source": [
    "import sys\n",
    "sys.stdin = open(\"./sample_data.txt\")\n",
    "input = sys.stdin.readline\n",
    "\n",
    "##################################\n",
    "\n",
    "N = int(input())\n",
    "nums = [int(i) for i in input().split()]\n",
    "ans = \"Yes\"\n",
    "for i in range(len(nums)):\n",
    "    if i == 0:\n",
    "        if bin(nums[N-1]^nums[1])==bin(nums[0]):\n",
    "            continue\n",
    "        else:\n",
    "            ans = \"No\"\n",
    "    elif i == N-1:\n",
    "        if bin(nums[N-2]^nums[0])==bin(nums[N-1]):\n",
    "            continue\n",
    "        else:\n",
    "            ans = \"No\"\n",
    "    else:\n",
    "        if bin(nums[i-1]^nums[i+1])==bin(nums[i]):\n",
    "            continue\n",
    "        else:\n",
    "            ans = \"No\"\n",
    "\n",
    "print(ans)"
   ]
  },
  {
   "cell_type": "code",
   "execution_count": 21,
   "metadata": {},
   "outputs": [
    {
     "name": "stdout",
     "output_type": "stream",
     "text": [
      "No\n"
     ]
    }
   ],
   "source": [
    "import sys\n",
    "sys.stdin = open(\"./sample_data.txt\")\n",
    "input = sys.stdin.readline\n",
    "\n",
    "##################################\n",
    "\n",
    "N = int(input())\n",
    "nums = [int(i) for i in input().split()]\n",
    "ans = \"Yes\"\n",
    "candidates =[]\n",
    "for i in range(N):\n",
    "    if i == 0:\n",
    "        if nums[N-1]^nums[1]==nums[0]:\n",
    "            continue\n",
    "        else:\n",
    "            candidates.append(i)\n",
    "    elif i == N-1:\n",
    "        if nums[N-2]^nums[0]==nums[N-1]:\n",
    "            continue\n",
    "        else:\n",
    "            candidates.append(i)\n",
    "    else:\n",
    "        if nums[i-1]^nums[i+1]==nums[i]:\n",
    "            continue\n",
    "        else:\n",
    "            candidates.append(i)\n",
    "\n",
    "for candidate in candidates:\n",
    "    for \n",
    "            \n",
    "print(ans)"
   ]
  },
  {
   "cell_type": "code",
   "execution_count": 15,
   "metadata": {},
   "outputs": [
    {
     "data": {
      "text/plain": [
       "True"
      ]
     },
     "execution_count": 15,
     "metadata": {},
     "output_type": "execute_result"
    }
   ],
   "source": [
    "1^2 == 3"
   ]
  },
  {
   "cell_type": "code",
   "execution_count": 16,
   "metadata": {},
   "outputs": [
    {
     "data": {
      "text/plain": [
       "3"
      ]
     },
     "execution_count": 16,
     "metadata": {},
     "output_type": "execute_result"
    }
   ],
   "source": [
    "1^2"
   ]
  },
  {
   "cell_type": "code",
   "execution_count": 17,
   "metadata": {},
   "outputs": [
    {
     "data": {
      "text/plain": [
       "5"
      ]
     },
     "execution_count": 17,
     "metadata": {},
     "output_type": "execute_result"
    }
   ],
   "source": [
    "1^4"
   ]
  },
  {
   "cell_type": "code",
   "execution_count": 18,
   "metadata": {},
   "outputs": [
    {
     "data": {
      "text/plain": [
       "10"
      ]
     },
     "execution_count": 18,
     "metadata": {},
     "output_type": "execute_result"
    }
   ],
   "source": [
    "2^8"
   ]
  },
  {
   "cell_type": "code",
   "execution_count": 19,
   "metadata": {},
   "outputs": [
    {
     "data": {
      "text/plain": [
       "2"
      ]
     },
     "execution_count": 19,
     "metadata": {},
     "output_type": "execute_result"
    }
   ],
   "source": [
    "1^3"
   ]
  },
  {
   "cell_type": "code",
   "execution_count": null,
   "metadata": {},
   "outputs": [],
   "source": []
  }
 ],
 "metadata": {
  "kernelspec": {
   "display_name": "Python 3",
   "language": "python",
   "name": "python3"
  },
  "language_info": {
   "codemirror_mode": {
    "name": "ipython",
    "version": 3
   },
   "file_extension": ".py",
   "mimetype": "text/x-python",
   "name": "python",
   "nbconvert_exporter": "python",
   "pygments_lexer": "ipython3",
   "version": "3.6.8"
  }
 },
 "nbformat": 4,
 "nbformat_minor": 2
}
